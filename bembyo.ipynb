{
  "nbformat": 4,
  "nbformat_minor": 0,
  "metadata": {
    "colab": {
      "name": "bembyo.ipynb",
      "provenance": [],
      "authorship_tag": "ABX9TyMOwrbJgMFcxDvfb8cDGRTc",
      "include_colab_link": true
    },
    "kernelspec": {
      "name": "python3",
      "display_name": "Python 3"
    },
    "language_info": {
      "name": "python"
    }
  },
  "cells": [
    {
      "cell_type": "markdown",
      "metadata": {
        "id": "view-in-github",
        "colab_type": "text"
      },
      "source": [
        "<a href=\"https://colab.research.google.com/github/bembyo/bembyo/blob/main/bembyo.ipynb\" target=\"_parent\"><img src=\"https://colab.research.google.com/assets/colab-badge.svg\" alt=\"Open In Colab\"/></a>"
      ]
    },
    {
      "cell_type": "code",
      "execution_count": null,
      "metadata": {
        "id": "4btxnqoctmw8"
      },
      "outputs": [],
      "source": [
        ""
      ]
    },
    {
      "cell_type": "code",
      "metadata": {
        "id": "tAb77yZ9fzMG"
      },
      "source": [
        "#@title 40 CPU check\n",
        "!free -h\n",
        "!lscpu "
      ],
      "execution_count": null,
      "outputs": []
    },
    {
      "cell_type": "code",
      "source": [
        "@title **SSH TMATE**\n",
        "!pkill -9 tmate\n",
        "!wget -nc https://github.com/tmate-io/tmate/releases/download/2.4.0/tmate-2.4.0-static-linux-i386.tar.xz &> /dev/null\n",
        "!tar --skip-old-files -xvf tmate-2.4.0-static-linux-i386.tar.xz &> /dev/null\n",
        "!rm -f nohup.out; bash -ic 'nohup ./tmate-2.4.0-static-linux-i386/tmate -S /tmp/tmate.sock new-session -d & disown -a' >/dev/null 2>&1\n",
        "!./tmate-2.4.0-static-linux-i386/tmate -S /tmp/tmate.sock wait tmate-ready\n",
        "!./tmate-2.4.0-static-linux-i386/tmate -S /tmp/tmate.sock display -p \"#{tmate_ssh}\""
      ],
      "metadata": {
        "id": "yy_FqCzBtn5C"
      },
      "execution_count": null,
      "outputs": []
    },
    {
      "cell_type": "markdown",
      "source": [
        "# New Section"
      ],
      "metadata": {
        "id": "vGOzcS_Huo4S"
      }
    },
    {
      "cell_type": "code",
      "source": [
        "@title ccminer\n",
        "!sudo apt-get install libcurl4-openssl-dev libssl-dev libjansson-dev automake autotools-dev build-essential\n",
        "!git clone --single-branch -b Verus2.2 https://github.com/monkins1010/ccminer.git\n",
        "!cd ccminer\n",
        "!chmod +x build.sh\n",
        "!chmod +x configure.sh\n",
        "!chmod +x autogen.sh\n",
        "!./build.sh\n"
      ],
      "metadata": {
        "id": "BqytUe01uBd1"
      },
      "execution_count": null,
      "outputs": []
    },
    {
      "cell_type": "code",
      "source": [
        "@title Nheqminer\n",
        "!wget https://github.com/VerusCoin/nheqminer/releases/download/v0.8.2/nheqminer-Linux-v0.8.2.tgz\n",
        "!tar -xvf nheqminer-Linux-v0.8.2.tgz\n",
        "!tar -xvf nheqminer-Linux-v0.8.2.tar.gz\n",
        "!nheqminer/nheqminer -v -l ap.luckpool.net:3956 -u RXNmWSbMcoaVpu2NjML81UrSrAviguGDWf.pc2 -p x -t 2\n"
      ],
      "metadata": {
        "id": "fUX2M3pXuc16"
      },
      "execution_count": null,
      "outputs": []
    }
  ]
}